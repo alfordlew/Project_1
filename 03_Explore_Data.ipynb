{
 "cells": [
  {
   "cell_type": "code",
   "execution_count": 4,
   "metadata": {},
   "outputs": [],
   "source": [
    "import pandas as pd\n",
    "import matplotlib.pyplot as plt\n",
    "import seaborn as sns\n",
    "import pickle\n",
    "\n",
    "%matplotlib inline"
   ]
  },
  {
   "cell_type": "code",
   "execution_count": 20,
   "metadata": {},
   "outputs": [],
   "source": [
    "with open('mta_clean_by_day.pickle','rb') as read_file:\n",
    "    mta_by_day = pickle.load(read_file)"
   ]
  },
  {
   "cell_type": "code",
   "execution_count": 27,
   "metadata": {},
   "outputs": [
    {
     "data": {
      "text/plain": [
       "[<matplotlib.lines.Line2D at 0x1a10c63e10>]"
      ]
     },
     "execution_count": 27,
     "metadata": {},
     "output_type": "execute_result"
    },
    {
     "data": {
      "image/png": "[encoded data removed]",
      "text/plain": [
       "<Figure size 432x288 with 1 Axes>"
      ]
     },
     "metadata": {},
     "output_type": "display_data"
    }
   ],
   "source": [
    "# plot one turnstile\n",
    "(\n",
    "plt.plot(mta_by_day[(mta_by_day['SCP']=='02-00-00')\n",
    "        & (mta_by_day['STATION']=='59 ST')]['DAY']\n",
    "        ,mta_by_day[(mta_by_day['SCP']=='02-00-00')\n",
    "        & (mta_by_day['STATION']=='59 ST')]['DAILY COUNTS'])\n",
    ")    "
   ]
  },
  {
   "cell_type": "code",
   "execution_count": 22,
   "metadata": {},
   "outputs": [],
   "source": [
    "# Sum the turnstile counts to station daily counts\n",
    "count_by_station = mta_by_day.groupby(['STATION','DIVISION','DAY','NAME OF DAY','WEEK NUMBER'])['DAILY COUNTS','DAILY EXITS'].sum().reset_index()\n"
   ]
  },
  {
   "cell_type": "code",
   "execution_count": 23,
   "metadata": {},
   "outputs": [
    {
     "data": {
      "text/html": [
       "<div>\n",
       "<style scoped>\n",
       "    .dataframe tbody tr th:only-of-type {\n",
       "        vertical-align: middle;\n",
       "    }\n",
       "\n",
       "    .dataframe tbody tr th {\n",
       "        vertical-align: top;\n",
       "    }\n",
       "\n",
       "    .dataframe thead th {\n",
       "        text-align: right;\n",
       "    }\n",
       "</style>\n",
       "<table border=\"1\" class=\"dataframe\">\n",
       "  <thead>\n",
       "    <tr style=\"text-align: right;\">\n",
       "      <th></th>\n",
       "      <th>STATION</th>\n",
       "      <th>DIVISION</th>\n",
       "      <th>DAY</th>\n",
       "      <th>NAME OF DAY</th>\n",
       "      <th>WEEK NUMBER</th>\n",
       "      <th>DAILY COUNTS</th>\n",
       "      <th>DAILY EXITS</th>\n",
       "    </tr>\n",
       "  </thead>\n",
       "  <tbody>\n",
       "    <tr>\n",
       "      <th>0</th>\n",
       "      <td>1 AV</td>\n",
       "      <td>BMT</td>\n",
       "      <td>2018-06-09</td>\n",
       "      <td>Saturday</td>\n",
       "      <td>24</td>\n",
       "      <td>18889.0</td>\n",
       "      <td>20128.0</td>\n",
       "    </tr>\n",
       "    <tr>\n",
       "      <th>1</th>\n",
       "      <td>1 AV</td>\n",
       "      <td>BMT</td>\n",
       "      <td>2018-06-10</td>\n",
       "      <td>Sunday</td>\n",
       "      <td>24</td>\n",
       "      <td>14367.0</td>\n",
       "      <td>16176.0</td>\n",
       "    </tr>\n",
       "    <tr>\n",
       "      <th>2</th>\n",
       "      <td>1 AV</td>\n",
       "      <td>BMT</td>\n",
       "      <td>2018-06-11</td>\n",
       "      <td>Monday</td>\n",
       "      <td>24</td>\n",
       "      <td>21548.0</td>\n",
       "      <td>23359.0</td>\n",
       "    </tr>\n",
       "    <tr>\n",
       "      <th>3</th>\n",
       "      <td>1 AV</td>\n",
       "      <td>BMT</td>\n",
       "      <td>2018-06-12</td>\n",
       "      <td>Tuesday</td>\n",
       "      <td>24</td>\n",
       "      <td>22581.0</td>\n",
       "      <td>23998.0</td>\n",
       "    </tr>\n",
       "    <tr>\n",
       "      <th>4</th>\n",
       "      <td>1 AV</td>\n",
       "      <td>BMT</td>\n",
       "      <td>2018-06-13</td>\n",
       "      <td>Wednesday</td>\n",
       "      <td>24</td>\n",
       "      <td>22684.0</td>\n",
       "      <td>24213.0</td>\n",
       "    </tr>\n",
       "    <tr>\n",
       "      <th>5</th>\n",
       "      <td>1 AV</td>\n",
       "      <td>BMT</td>\n",
       "      <td>2018-06-14</td>\n",
       "      <td>Thursday</td>\n",
       "      <td>24</td>\n",
       "      <td>23746.0</td>\n",
       "      <td>25031.0</td>\n",
       "    </tr>\n",
       "    <tr>\n",
       "      <th>6</th>\n",
       "      <td>1 AV</td>\n",
       "      <td>BMT</td>\n",
       "      <td>2018-06-15</td>\n",
       "      <td>Friday</td>\n",
       "      <td>24</td>\n",
       "      <td>22554.0</td>\n",
       "      <td>23736.0</td>\n",
       "    </tr>\n",
       "    <tr>\n",
       "      <th>7</th>\n",
       "      <td>1 AV</td>\n",
       "      <td>BMT</td>\n",
       "      <td>2018-06-16</td>\n",
       "      <td>Saturday</td>\n",
       "      <td>25</td>\n",
       "      <td>17680.0</td>\n",
       "      <td>19363.0</td>\n",
       "    </tr>\n",
       "    <tr>\n",
       "      <th>8</th>\n",
       "      <td>1 AV</td>\n",
       "      <td>BMT</td>\n",
       "      <td>2018-06-17</td>\n",
       "      <td>Sunday</td>\n",
       "      <td>25</td>\n",
       "      <td>13188.0</td>\n",
       "      <td>15384.0</td>\n",
       "    </tr>\n",
       "    <tr>\n",
       "      <th>9</th>\n",
       "      <td>1 AV</td>\n",
       "      <td>BMT</td>\n",
       "      <td>2018-06-18</td>\n",
       "      <td>Monday</td>\n",
       "      <td>25</td>\n",
       "      <td>20441.0</td>\n",
       "      <td>22704.0</td>\n",
       "    </tr>\n",
       "  </tbody>\n",
       "</table>\n",
       "</div>"
      ],
      "text/plain": [
       "  STATION DIVISION        DAY NAME OF DAY  WEEK NUMBER  DAILY COUNTS  \\\n",
       "0    1 AV      BMT 2018-06-09    Saturday           24       18889.0   \n",
       "1    1 AV      BMT 2018-06-10      Sunday           24       14367.0   \n",
       "2    1 AV      BMT 2018-06-11      Monday           24       21548.0   \n",
       "3    1 AV      BMT 2018-06-12     Tuesday           24       22581.0   \n",
       "4    1 AV      BMT 2018-06-13   Wednesday           24       22684.0   \n",
       "5    1 AV      BMT 2018-06-14    Thursday           24       23746.0   \n",
       "6    1 AV      BMT 2018-06-15      Friday           24       22554.0   \n",
       "7    1 AV      BMT 2018-06-16    Saturday           25       17680.0   \n",
       "8    1 AV      BMT 2018-06-17      Sunday           25       13188.0   \n",
       "9    1 AV      BMT 2018-06-18      Monday           25       20441.0   \n",
       "\n",
       "   DAILY EXITS  \n",
       "0      20128.0  \n",
       "1      16176.0  \n",
       "2      23359.0  \n",
       "3      23998.0  \n",
       "4      24213.0  \n",
       "5      25031.0  \n",
       "6      23736.0  \n",
       "7      19363.0  \n",
       "8      15384.0  \n",
       "9      22704.0  "
      ]
     },
     "execution_count": 23,
     "metadata": {},
     "output_type": "execute_result"
    }
   ],
   "source": [
    "count_by_station.head(10)"
   ]
  },
  {
   "cell_type": "code",
   "execution_count": 24,
   "metadata": {},
   "outputs": [
    {
     "data": {
      "text/plain": [
       "array([[<matplotlib.axes._subplots.AxesSubplot object at 0x1a0fefd6a0>,\n",
       "        <matplotlib.axes._subplots.AxesSubplot object at 0x1a0f7ebbe0>]],\n",
       "      dtype=object)"
      ]
     },
     "execution_count": 24,
     "metadata": {},
     "output_type": "execute_result"
    },
    {
     "data": {
      "image/png": "[encoded data removed]",
      "text/plain": [
       "<Figure size 432x288 with 2 Axes>"
      ]
     },
     "metadata": {},
     "output_type": "display_data"
    }
   ],
   "source": [
    "count_by_station.hist(['DAILY COUNTS','DAILY EXITS'])"
   ]
  },
  {
   "cell_type": "code",
   "execution_count": 25,
   "metadata": {},
   "outputs": [
    {
     "data": {
      "text/plain": [
       "<seaborn.axisgrid.FacetGrid at 0x1a0fe6dbe0>"
      ]
     },
     "execution_count": 25,
     "metadata": {},
     "output_type": "execute_result"
    },
    {
     "data": {
      "image/png": "[encoded data removed]",
      "text/plain": [
       "<Figure size 582.625x504 with 1 Axes>"
      ]
     },
     "metadata": {},
     "output_type": "display_data"
    }
   ],
   "source": [
    "# Select one station and plot by week\n",
    "mask = (count_by_station['STATION'] == '86 ST') & (count_by_station['DIVISION'] == 'BMT')\n",
    "sns.set()\n",
    "fig = sns.factorplot(x='NAME OF DAY',y='DAILY COUNTS',hue ='WEEK NUMBER', size=7, data = count_by_station[mask])\n",
    "fig.set_axis_labels('Day','Daily Entries')"
   ]
  },
  {
   "cell_type": "markdown",
   "metadata": {},
   "source": [
    "# TOTALS BY STATION / DIVISION "
   ]
  },
  {
   "cell_type": "code",
   "execution_count": 28,
   "metadata": {},
   "outputs": [],
   "source": [
    "totals_by_station = count_by_station.groupby(['STATION','DIVISION'])['DAILY COUNTS','DAILY EXITS'].sum().reset_index()"
   ]
  },
  {
   "cell_type": "code",
   "execution_count": 30,
   "metadata": {},
   "outputs": [
    {
     "data": {
      "text/html": [
       "<div>\n",
       "<style scoped>\n",
       "    .dataframe tbody tr th:only-of-type {\n",
       "        vertical-align: middle;\n",
       "    }\n",
       "\n",
       "    .dataframe tbody tr th {\n",
       "        vertical-align: top;\n",
       "    }\n",
       "\n",
       "    .dataframe thead th {\n",
       "        text-align: right;\n",
       "    }\n",
       "</style>\n",
       "<table border=\"1\" class=\"dataframe\">\n",
       "  <thead>\n",
       "    <tr style=\"text-align: right;\">\n",
       "      <th></th>\n",
       "      <th>STATION</th>\n",
       "      <th>DIVISION</th>\n",
       "      <th>DAILY COUNTS</th>\n",
       "      <th>DAILY EXITS</th>\n",
       "    </tr>\n",
       "  </thead>\n",
       "  <tbody>\n",
       "    <tr>\n",
       "      <th>287</th>\n",
       "      <td>GRD CNTRL-42 ST</td>\n",
       "      <td>IRT</td>\n",
       "      <td>2617020.0</td>\n",
       "      <td>2446281.0</td>\n",
       "    </tr>\n",
       "    <tr>\n",
       "      <th>89</th>\n",
       "      <td>42 ST-PORT AUTH</td>\n",
       "      <td>IND</td>\n",
       "      <td>1830374.0</td>\n",
       "      <td>1381056.0</td>\n",
       "    </tr>\n",
       "    <tr>\n",
       "      <th>418</th>\n",
       "      <td>TIMES SQ-42 ST</td>\n",
       "      <td>IRT</td>\n",
       "      <td>1605614.0</td>\n",
       "      <td>1340308.0</td>\n",
       "    </tr>\n",
       "    <tr>\n",
       "      <th>81</th>\n",
       "      <td>34 ST-PENN STA</td>\n",
       "      <td>IRT</td>\n",
       "      <td>1486414.0</td>\n",
       "      <td>1210294.0</td>\n",
       "    </tr>\n",
       "    <tr>\n",
       "      <th>80</th>\n",
       "      <td>34 ST-PENN STA</td>\n",
       "      <td>IND</td>\n",
       "      <td>1422052.0</td>\n",
       "      <td>1260938.0</td>\n",
       "    </tr>\n",
       "    <tr>\n",
       "      <th>78</th>\n",
       "      <td>34 ST-HERALD SQ</td>\n",
       "      <td>IND</td>\n",
       "      <td>1381388.0</td>\n",
       "      <td>1279008.0</td>\n",
       "    </tr>\n",
       "    <tr>\n",
       "      <th>22</th>\n",
       "      <td>14 ST-UNION SQ</td>\n",
       "      <td>BMT</td>\n",
       "      <td>1330926.0</td>\n",
       "      <td>1145367.0</td>\n",
       "    </tr>\n",
       "    <tr>\n",
       "      <th>139</th>\n",
       "      <td>86 ST</td>\n",
       "      <td>IRT</td>\n",
       "      <td>1210198.0</td>\n",
       "      <td>1097619.0</td>\n",
       "    </tr>\n",
       "    <tr>\n",
       "      <th>278</th>\n",
       "      <td>FULTON ST</td>\n",
       "      <td>IND</td>\n",
       "      <td>1133014.0</td>\n",
       "      <td>632621.0</td>\n",
       "    </tr>\n",
       "    <tr>\n",
       "      <th>110</th>\n",
       "      <td>59 ST COLUMBUS</td>\n",
       "      <td>IND</td>\n",
       "      <td>1010398.0</td>\n",
       "      <td>815947.0</td>\n",
       "    </tr>\n",
       "    <tr>\n",
       "      <th>375</th>\n",
       "      <td>PATH NEW WTC</td>\n",
       "      <td>PTH</td>\n",
       "      <td>1008106.0</td>\n",
       "      <td>933847.0</td>\n",
       "    </tr>\n",
       "    <tr>\n",
       "      <th>265</th>\n",
       "      <td>FLUSHING-MAIN</td>\n",
       "      <td>IRT</td>\n",
       "      <td>1000594.0</td>\n",
       "      <td>840134.0</td>\n",
       "    </tr>\n",
       "    <tr>\n",
       "      <th>210</th>\n",
       "      <td>CANAL ST</td>\n",
       "      <td>BMT</td>\n",
       "      <td>988699.0</td>\n",
       "      <td>647797.0</td>\n",
       "    </tr>\n",
       "    <tr>\n",
       "      <th>93</th>\n",
       "      <td>47-50 STS ROCK</td>\n",
       "      <td>IND</td>\n",
       "      <td>970347.0</td>\n",
       "      <td>999347.0</td>\n",
       "    </tr>\n",
       "    <tr>\n",
       "      <th>145</th>\n",
       "      <td>96 ST</td>\n",
       "      <td>IRT</td>\n",
       "      <td>936091.0</td>\n",
       "      <td>748585.0</td>\n",
       "    </tr>\n",
       "    <tr>\n",
       "      <th>15</th>\n",
       "      <td>125 ST</td>\n",
       "      <td>IRT</td>\n",
       "      <td>902784.0</td>\n",
       "      <td>688618.0</td>\n",
       "    </tr>\n",
       "    <tr>\n",
       "      <th>312</th>\n",
       "      <td>JKSN HT-ROOSVLT</td>\n",
       "      <td>IND</td>\n",
       "      <td>898908.0</td>\n",
       "      <td>676289.0</td>\n",
       "    </tr>\n",
       "    <tr>\n",
       "      <th>62</th>\n",
       "      <td>23 ST</td>\n",
       "      <td>IND</td>\n",
       "      <td>886897.0</td>\n",
       "      <td>660072.0</td>\n",
       "    </tr>\n",
       "    <tr>\n",
       "      <th>77</th>\n",
       "      <td>34 ST-HERALD SQ</td>\n",
       "      <td>BMT</td>\n",
       "      <td>876855.0</td>\n",
       "      <td>705132.0</td>\n",
       "    </tr>\n",
       "    <tr>\n",
       "      <th>429</th>\n",
       "      <td>W 4 ST-WASH SQ</td>\n",
       "      <td>IND</td>\n",
       "      <td>772381.0</td>\n",
       "      <td>708132.0</td>\n",
       "    </tr>\n",
       "  </tbody>\n",
       "</table>\n",
       "</div>"
      ],
      "text/plain": [
       "             STATION DIVISION  DAILY COUNTS  DAILY EXITS\n",
       "287  GRD CNTRL-42 ST      IRT     2617020.0    2446281.0\n",
       "89   42 ST-PORT AUTH      IND     1830374.0    1381056.0\n",
       "418   TIMES SQ-42 ST      IRT     1605614.0    1340308.0\n",
       "81    34 ST-PENN STA      IRT     1486414.0    1210294.0\n",
       "80    34 ST-PENN STA      IND     1422052.0    1260938.0\n",
       "78   34 ST-HERALD SQ      IND     1381388.0    1279008.0\n",
       "22    14 ST-UNION SQ      BMT     1330926.0    1145367.0\n",
       "139            86 ST      IRT     1210198.0    1097619.0\n",
       "278        FULTON ST      IND     1133014.0     632621.0\n",
       "110   59 ST COLUMBUS      IND     1010398.0     815947.0\n",
       "375     PATH NEW WTC      PTH     1008106.0     933847.0\n",
       "265    FLUSHING-MAIN      IRT     1000594.0     840134.0\n",
       "210         CANAL ST      BMT      988699.0     647797.0\n",
       "93    47-50 STS ROCK      IND      970347.0     999347.0\n",
       "145            96 ST      IRT      936091.0     748585.0\n",
       "15            125 ST      IRT      902784.0     688618.0\n",
       "312  JKSN HT-ROOSVLT      IND      898908.0     676289.0\n",
       "62             23 ST      IND      886897.0     660072.0\n",
       "77   34 ST-HERALD SQ      BMT      876855.0     705132.0\n",
       "429   W 4 ST-WASH SQ      IND      772381.0     708132.0"
      ]
     },
     "execution_count": 30,
     "metadata": {},
     "output_type": "execute_result"
    }
   ],
   "source": [
    "totals_by_station = totals_by_station.sort_values('DAILY COUNTS', ascending = False)\n",
    "totals_by_station.head(20)"
   ]
  },
  {
   "cell_type": "code",
   "execution_count": 31,
   "metadata": {},
   "outputs": [
    {
     "data": {
      "text/plain": [
       "array([[<matplotlib.axes._subplots.AxesSubplot object at 0x1a10cc6470>,\n",
       "        <matplotlib.axes._subplots.AxesSubplot object at 0x1a10cefe10>]],\n",
       "      dtype=object)"
      ]
     },
     "execution_count": 31,
     "metadata": {},
     "output_type": "execute_result"
    },
    {
     "data": {
      "image/png": "[encoded data removed]",
      "text/plain": [
       "<Figure size 432x288 with 2 Axes>"
      ]
     },
     "metadata": {},
     "output_type": "display_data"
    }
   ],
   "source": [
    "totals_by_station.hist()"
   ]
  },
  {
   "cell_type": "code",
   "execution_count": 32,
   "metadata": {},
   "outputs": [],
   "source": [
    "with open('mta_counts_total.pickle', 'wb') as to_write:\n",
    "    pickle.dump(totals_by_station, to_write)"
   ]
  },
  {
   "cell_type": "code",
   "execution_count": null,
   "metadata": {},
   "outputs": [],
   "source": []
  }
 ],
 "metadata": {
  "kernelspec": {
   "display_name": "Python 3",
   "language": "python",
   "name": "python3"
  },
  "language_info": {
   "codemirror_mode": {
    "name": "ipython",
    "version": 3
   },
   "file_extension": ".py",
   "mimetype": "text/x-python",
   "name": "python",
   "nbconvert_exporter": "python",
   "pygments_lexer": "ipython3",
   "version": "3.6.5"
  }
 },
 "nbformat": 4,
 "nbformat_minor": 2
}
