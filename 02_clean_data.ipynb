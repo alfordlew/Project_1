{
 "cells": [
  {
   "cell_type": "code",
   "execution_count": 40,
   "metadata": {},
   "outputs": [],
   "source": [
    "import pandas as pd\n",
    "import pickle\n",
    "import datetime"
   ]
  },
  {
   "cell_type": "code",
   "execution_count": 108,
   "metadata": {},
   "outputs": [],
   "source": [
    "with open('mta_extract.pickle','rb') as read_file:\n",
    "    mta_data = pickle.load(read_file)"
   ]
  },
  {
   "cell_type": "code",
   "execution_count": 109,
   "metadata": {},
   "outputs": [],
   "source": [
    "#Convert DATE to date format\n",
    "mta_data['DAY'] = pd.to_datetime(mta_data['DATE'])\n",
    "mta_data.columns = [column.strip() for column in mta_data.columns]"
   ]
  },
  {
   "cell_type": "code",
   "execution_count": 110,
   "metadata": {},
   "outputs": [],
   "source": [
    "#Get rid of duplicates and Recover Audit entries\n",
    "by_day = mta_data[(mta_data['DESC'] == 'REGULAR')]"
   ]
  },
  {
   "cell_type": "code",
   "execution_count": 111,
   "metadata": {},
   "outputs": [],
   "source": [
    "#Create a data frame that looks at each turnstile and identifies the lowest recorded entries for the day. \n",
    "#We assume that the first count of the day is the beginning of the day/end of previous day\n",
    "by_day = by_day.sort_values(['C/A','UNIT','SCP','DAY','ENTRIES'], ascending = True).groupby(['C/A','UNIT','SCP','DAY']).head(1)"
   ]
  },
  {
   "cell_type": "code",
   "execution_count": 112,
   "metadata": {},
   "outputs": [
    {
     "data": {
      "text/html": [
       "<div>\n",
       "<style scoped>\n",
       "    .dataframe tbody tr th:only-of-type {\n",
       "        vertical-align: middle;\n",
       "    }\n",
       "\n",
       "    .dataframe tbody tr th {\n",
       "        vertical-align: top;\n",
       "    }\n",
       "\n",
       "    .dataframe thead th {\n",
       "        text-align: right;\n",
       "    }\n",
       "</style>\n",
       "<table border=\"1\" class=\"dataframe\">\n",
       "  <thead>\n",
       "    <tr style=\"text-align: right;\">\n",
       "      <th></th>\n",
       "      <th>C/A</th>\n",
       "      <th>UNIT</th>\n",
       "      <th>SCP</th>\n",
       "      <th>STATION</th>\n",
       "      <th>LINENAME</th>\n",
       "      <th>DIVISION</th>\n",
       "      <th>DATE</th>\n",
       "      <th>TIME</th>\n",
       "      <th>DESC</th>\n",
       "      <th>ENTRIES</th>\n",
       "      <th>EXITS</th>\n",
       "      <th>DAY</th>\n",
       "    </tr>\n",
       "  </thead>\n",
       "  <tbody>\n",
       "    <tr>\n",
       "      <th>0</th>\n",
       "      <td>A002</td>\n",
       "      <td>R051</td>\n",
       "      <td>02-00-00</td>\n",
       "      <td>59 ST</td>\n",
       "      <td>NQR456W</td>\n",
       "      <td>BMT</td>\n",
       "      <td>06/09/2018</td>\n",
       "      <td>00:00:00</td>\n",
       "      <td>REGULAR</td>\n",
       "      <td>6649975</td>\n",
       "      <td>2254182</td>\n",
       "      <td>2018-06-09</td>\n",
       "    </tr>\n",
       "    <tr>\n",
       "      <th>6</th>\n",
       "      <td>A002</td>\n",
       "      <td>R051</td>\n",
       "      <td>02-00-00</td>\n",
       "      <td>59 ST</td>\n",
       "      <td>NQR456W</td>\n",
       "      <td>BMT</td>\n",
       "      <td>06/10/2018</td>\n",
       "      <td>00:00:00</td>\n",
       "      <td>REGULAR</td>\n",
       "      <td>6650723</td>\n",
       "      <td>2254407</td>\n",
       "      <td>2018-06-10</td>\n",
       "    </tr>\n",
       "    <tr>\n",
       "      <th>12</th>\n",
       "      <td>A002</td>\n",
       "      <td>R051</td>\n",
       "      <td>02-00-00</td>\n",
       "      <td>59 ST</td>\n",
       "      <td>NQR456W</td>\n",
       "      <td>BMT</td>\n",
       "      <td>06/11/2018</td>\n",
       "      <td>00:00:00</td>\n",
       "      <td>REGULAR</td>\n",
       "      <td>6651277</td>\n",
       "      <td>2254564</td>\n",
       "      <td>2018-06-11</td>\n",
       "    </tr>\n",
       "    <tr>\n",
       "      <th>18</th>\n",
       "      <td>A002</td>\n",
       "      <td>R051</td>\n",
       "      <td>02-00-00</td>\n",
       "      <td>59 ST</td>\n",
       "      <td>NQR456W</td>\n",
       "      <td>BMT</td>\n",
       "      <td>06/12/2018</td>\n",
       "      <td>00:00:00</td>\n",
       "      <td>REGULAR</td>\n",
       "      <td>6652785</td>\n",
       "      <td>2255022</td>\n",
       "      <td>2018-06-12</td>\n",
       "    </tr>\n",
       "    <tr>\n",
       "      <th>24</th>\n",
       "      <td>A002</td>\n",
       "      <td>R051</td>\n",
       "      <td>02-00-00</td>\n",
       "      <td>59 ST</td>\n",
       "      <td>NQR456W</td>\n",
       "      <td>BMT</td>\n",
       "      <td>06/13/2018</td>\n",
       "      <td>00:00:00</td>\n",
       "      <td>REGULAR</td>\n",
       "      <td>6654264</td>\n",
       "      <td>2255553</td>\n",
       "      <td>2018-06-13</td>\n",
       "    </tr>\n",
       "  </tbody>\n",
       "</table>\n",
       "</div>"
      ],
      "text/plain": [
       "     C/A  UNIT       SCP STATION LINENAME DIVISION        DATE      TIME  \\\n",
       "0   A002  R051  02-00-00   59 ST  NQR456W      BMT  06/09/2018  00:00:00   \n",
       "6   A002  R051  02-00-00   59 ST  NQR456W      BMT  06/10/2018  00:00:00   \n",
       "12  A002  R051  02-00-00   59 ST  NQR456W      BMT  06/11/2018  00:00:00   \n",
       "18  A002  R051  02-00-00   59 ST  NQR456W      BMT  06/12/2018  00:00:00   \n",
       "24  A002  R051  02-00-00   59 ST  NQR456W      BMT  06/13/2018  00:00:00   \n",
       "\n",
       "       DESC  ENTRIES    EXITS        DAY  \n",
       "0   REGULAR  6649975  2254182 2018-06-09  \n",
       "6   REGULAR  6650723  2254407 2018-06-10  \n",
       "12  REGULAR  6651277  2254564 2018-06-11  \n",
       "18  REGULAR  6652785  2255022 2018-06-12  \n",
       "24  REGULAR  6654264  2255553 2018-06-13  "
      ]
     },
     "execution_count": 112,
     "metadata": {},
     "output_type": "execute_result"
    }
   ],
   "source": [
    "by_day.head()"
   ]
  },
  {
   "cell_type": "code",
   "execution_count": 113,
   "metadata": {},
   "outputs": [],
   "source": [
    "#Set DAY to previous day. This allows us to assign today's lowest count - yesterday's lowest count = yesterday's total entries.\n",
    "by_day['DAY'] = by_day['DAY'] - pd.Timedelta(1,'D')\n",
    "by_day['COUNT'] = by_day.sort_values(['C/A','UNIT','SCP','DAY']).groupby(['C/A','UNIT','SCP'])['ENTRIES'].diff()\n",
    "by_day['COUNT OF EXITS'] = by_day.sort_values(['C/A','UNIT','SCP','DAY']).groupby(['C/A','UNIT','SCP'])['EXITS'].diff()"
   ]
  },
  {
   "cell_type": "code",
   "execution_count": 114,
   "metadata": {},
   "outputs": [],
   "source": [
    "#get rid of NaN and correct negative counters\n",
    "\n",
    "by_day.dropna(axis = 0,inplace = True)\n",
    "by_day = by_day.sort_values(['C/A','UNIT','SCP','LINENAME','DIVISION','STATION','DAY'])"
   ]
  },
  {
   "cell_type": "code",
   "execution_count": 115,
   "metadata": {},
   "outputs": [],
   "source": [
    "# Create function to correct negative counters and counters that defy logic. i.e. more than 90000 people through the turnstile\n",
    "def data_cleanse(row, column):\n",
    "    counter = row[column]\n",
    "    if counter < 0:\n",
    "        counter = -counter\n",
    "    if counter > 90000:\n",
    "        counter = 0\n",
    "    return counter"
   ]
  },
  {
   "cell_type": "code",
   "execution_count": 116,
   "metadata": {},
   "outputs": [],
   "source": [
    "by_day['DAILY COUNTS'] = by_day.apply(data_cleanse, axis = 1, column = 'COUNT')\n",
    "by_day['DAILY EXITS'] = by_day.apply(data_cleanse, axis = 1, column = 'COUNT OF EXITS')\n"
   ]
  },
  {
   "cell_type": "code",
   "execution_count": 117,
   "metadata": {},
   "outputs": [],
   "source": [
    "by_day['NAME OF DAY'] = by_day['DAY'].dt.weekday_name\n",
    "by_day['WEEK NUMBER'] = by_day['DAY'].dt.week"
   ]
  },
  {
   "cell_type": "code",
   "execution_count": 118,
   "metadata": {},
   "outputs": [],
   "source": [
    "def fixed_week(row):\n",
    "    week = row['WEEK NUMBER']\n",
    "    if row['NAME OF DAY'] == 'Saturday':\n",
    "        week += 1\n",
    "    elif row['NAME OF DAY'] == 'Sunday':\n",
    "        week += 1\n",
    "    return week"
   ]
  },
  {
   "cell_type": "code",
   "execution_count": 120,
   "metadata": {},
   "outputs": [],
   "source": [
    "by_day['WEEK NUMBER'] = by_day.apply(fixed_week, axis=1)"
   ]
  },
  {
   "cell_type": "code",
   "execution_count": 129,
   "metadata": {},
   "outputs": [],
   "source": [
    "by_day = by_day.drop(['TIME','DESC','ENTRIES','EXITS','COUNT','COUNT OF EXITS'], axis = 1, errors = 'ignore')"
   ]
  },
  {
   "cell_type": "code",
   "execution_count": 122,
   "metadata": {},
   "outputs": [],
   "source": [
    "with open('mta_clean_by_day.pickle', 'wb') as to_write:\n",
    "    pickle.dump(by_day, to_write)"
   ]
  },
  {
   "cell_type": "code",
   "execution_count": null,
   "metadata": {},
   "outputs": [],
   "source": []
  }
 ],
 "metadata": {
  "kernelspec": {
   "display_name": "Python 3",
   "language": "python",
   "name": "python3"
  },
  "language_info": {
   "codemirror_mode": {
    "name": "ipython",
    "version": 3
   },
   "file_extension": ".py",
   "mimetype": "text/x-python",
   "name": "python",
   "nbconvert_exporter": "python",
   "pygments_lexer": "ipython3",
   "version": "3.6.5"
  }
 },
 "nbformat": 4,
 "nbformat_minor": 2
}
